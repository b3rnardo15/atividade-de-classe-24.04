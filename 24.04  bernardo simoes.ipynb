{
 "cells": [
  {
   "cell_type": "code",
   "execution_count": 9,
   "metadata": {},
   "outputs": [
    {
     "data": {
      "text/plain": [
       "1"
      ]
     },
     "execution_count": 9,
     "metadata": {},
     "output_type": "execute_result"
    }
   ],
   "source": [
    "dias = [3,1,10]\n",
    "dias[0]\n",
    "\n",
    "\n",
    "\n",
    "#L = list() #Construtor de listas"
   ]
  },
  {
   "cell_type": "code",
   "execution_count": 10,
   "metadata": {},
   "outputs": [
    {
     "data": {
      "text/plain": [
       "1"
      ]
     },
     "execution_count": 10,
     "metadata": {},
     "output_type": "execute_result"
    }
   ],
   "source": [
    "dias[1]"
   ]
  },
  {
   "cell_type": "code",
   "execution_count": 11,
   "metadata": {},
   "outputs": [
    {
     "data": {
      "text/plain": [
       "10"
      ]
     },
     "execution_count": 11,
     "metadata": {},
     "output_type": "execute_result"
    }
   ],
   "source": [
    "dias[2]"
   ]
  },
  {
   "cell_type": "code",
   "execution_count": 14,
   "metadata": {},
   "outputs": [
    {
     "data": {
      "text/plain": [
       "[7, 8, 9]"
      ]
     },
     "execution_count": 14,
     "metadata": {},
     "output_type": "execute_result"
    }
   ],
   "source": [
    "Z =  [3,8,9]\n",
    "Z [0] = 7\n",
    "Z\n"
   ]
  },
  {
   "cell_type": "code",
   "execution_count": 16,
   "metadata": {},
   "outputs": [
    {
     "name": "stdout",
     "output_type": "stream",
     "text": [
      "True\n",
      "True\n",
      "[5, 7, 5, 8, 9]\n",
      "[5, 7, 5, 8, 9]\n"
     ]
    }
   ],
   "source": [
    "V = [6,7,5,8,9]\n",
    "L = V   #PONTEIRO\n",
    "\n",
    "\n",
    "print (V==L)\n",
    "print(V is L)\n",
    "V[0] = 5\n",
    "\n",
    "print(V)\n",
    "print(L)"
   ]
  },
  {
   "cell_type": "code",
   "execution_count": 1,
   "metadata": {},
   "outputs": [
    {
     "name": "stdout",
     "output_type": "stream",
     "text": [
      "True\n",
      "False\n",
      "[81, 82, 83]\n",
      "[5, 82, 83]\n"
     ]
    }
   ],
   "source": [
    "a =  [81,82,83]\n",
    "b = a[:]  #cria um clone com fatia\n",
    "# os dois pontos significam até \n",
    "print (a==b)\n",
    "print (a is b)\n",
    "b[0] = 5\n",
    "print(a)\n",
    "print(b)"
   ]
  },
  {
   "cell_type": "code",
   "execution_count": 3,
   "metadata": {},
   "outputs": [
    {
     "name": "stdout",
     "output_type": "stream",
     "text": [
      "['b', 'c']\n",
      "['a', 'b', 'c', 'd']\n",
      "['d', 'e', 'f']\n",
      "['a', 'b', 'c', 'd', 'e', 'f']\n"
     ]
    }
   ],
   "source": [
    "uma_lista = ['a','b','c','d','e','f']\n",
    "print (uma_lista[1:3]) #ele iria até o d que é o indice 3, mas ele exclui o que ele \"iria\" e volta para o anterior\n",
    "print(uma_lista[:4])\n",
    "print(uma_lista[3:])\n",
    "print(uma_lista[:])"
   ]
  },
  {
   "cell_type": "code",
   "execution_count": 7,
   "metadata": {},
   "outputs": [
    {
     "name": "stdout",
     "output_type": "stream",
     "text": [
      "1\n",
      "5\n"
     ]
    }
   ],
   "source": [
    "a = [1,2,3]\n",
    "b=a[:]\n",
    "b[0]=5\n",
    "print(a[0])\n",
    "print(b[0])"
   ]
  },
  {
   "cell_type": "code",
   "execution_count": 35,
   "metadata": {},
   "outputs": [
    {
     "name": "stdout",
     "output_type": "stream",
     "text": [
      "[99, 92.3, 'oi', True, False, ('Pitomba', 76)]\n",
      "True\n"
     ]
    }
   ],
   "source": [
    "minhaLista = [76,92.3,\"oi\",True,4,76]\n",
    "\n",
    "#a) inserir \"pitomba\" e 76 no final da lista\n",
    "#b)inserir o valor \"cibele\" na posição de indice 3\n",
    "#c) inserir o valor 99 no início da lista\n",
    "#d) encontrar o indice de \"oi\"\n",
    "#e) remover true da lista\n",
    "\n",
    "minhaLista [5] = 'Pitomba',76\n",
    "minhaLista [0] =  99\n",
    "minhaLista[4] = False\n",
    "print(minhaLista)\n",
    "print(minhaLista[3])\n",
    "\n"
   ]
  },
  {
   "cell_type": "code",
   "execution_count": 25,
   "metadata": {},
   "outputs": [
    {
     "name": "stdout",
     "output_type": "stream",
     "text": [
      "[76, 92.3, 'oi', 'cibele', 4, 76]\n"
     ]
    }
   ],
   "source": [
    "#b)\n",
    "minhaLista = [76,92.3,\"oi\",True,4,76]\n",
    "minhaLista [3] = \"cibele\"\n",
    "print(minhaLista)\n"
   ]
  },
  {
   "cell_type": "code",
   "execution_count": 27,
   "metadata": {},
   "outputs": [
    {
     "name": "stdout",
     "output_type": "stream",
     "text": [
      "[99, 92.3, 'oi', True, 4, 76]\n"
     ]
    }
   ],
   "source": [
    "#C\n",
    "minhaLista = [76,92.3,\"oi\",True,4,76]\n",
    "minhaLista [0] =  99\n",
    "print(minhaLista)"
   ]
  },
  {
   "cell_type": "code",
   "execution_count": 44,
   "metadata": {},
   "outputs": [
    {
     "name": "stdout",
     "output_type": "stream",
     "text": [
      "[76, 92.3, 'oi', True, 4, 76]\n",
      "oi\n"
     ]
    }
   ],
   "source": [
    "#d)\n",
    "minhaLista = [76,92.3,\"oi\",True,4,76]\n",
    "print(minhaLista)\n",
    "\n",
    "if \"oi\" in minhaLista:\n",
    "    \"oi\" == 2\n",
    "    print(minhaLista[2])\n",
    "else:\n",
    "    print(\"false\")\n",
    "    \n",
    "#print(\"o indice dois tem o valor de:\",minhaLista[2])\n"
   ]
  },
  {
   "cell_type": "code",
   "execution_count": 50,
   "metadata": {},
   "outputs": [
    {
     "name": "stdout",
     "output_type": "stream",
     "text": [
      "O indice procurado é o segundo\n"
     ]
    }
   ],
   "source": [
    "#d\n",
    "minha_lista = [76, 92.3, \"oi\", True, 4, 76]\n",
    "\n",
    "if( minha_lista[0] == \"oi\"):\n",
    "      print(\"O indice procurado é o zero\")\n",
    "\n",
    "elif( minha_lista[1] == \"oi\"):\n",
    "      print(\"O indice procurado é o primeiro\")\n",
    "\n",
    "elif( minha_lista[2] == \"oi\"):\n",
    "      print(\"O indice procurado é o segundo\")\n",
    "\n",
    "elif( minha_lista[3] == \"oi\"):\n",
    "      print(\"O indice procurado é o terceiro\")\n",
    "\n",
    "elif( minha_lista[4] == \"oi\"):\n",
    "      print(\"O indice procurado é o quatro\")\n",
    "\n",
    "elif( minha_lista[5] == \"oi\"):\n",
    "      print(\"O indice procurado é o quinto\")\n",
    "else:\n",
    "      print(\"Item não encontrado\")\n"
   ]
  },
  {
   "cell_type": "code",
   "execution_count": 56,
   "metadata": {},
   "outputs": [
    {
     "name": "stdout",
     "output_type": "stream",
     "text": [
      "[76, 92.3, 'oi', False, 4, 76]\n"
     ]
    }
   ],
   "source": [
    "# e)\n",
    "minhaLista = [76,92.3,\"oi\",True,4,76]\n",
    "minhaLista[3] = False\n",
    "print(minhaLista)"
   ]
  },
  {
   "cell_type": "code",
   "execution_count": 57,
   "metadata": {},
   "outputs": [
    {
     "data": {
      "text/plain": [
       "[76, 92.3, '0i', 4, 76]"
      ]
     },
     "execution_count": 57,
     "metadata": {},
     "output_type": "execute_result"
    }
   ],
   "source": [
    "#e)\n",
    "novaLista =[76,92.3,\"0i\",True,4,76]\n",
    "novaLista[:3]\n",
    "cloneLista=[4,76]\n",
    "novaLista[:3]+cloneLista"
   ]
  },
  {
   "cell_type": "code",
   "execution_count": 34,
   "metadata": {},
   "outputs": [
    {
     "name": "stdout",
     "output_type": "stream",
     "text": [
      "[76, 92.3, 'oi', 'cibele', True, 4, 76, 'Pitomba', 76]\n",
      "cibele\n",
      "oi\n"
     ]
    }
   ],
   "source": [
    "minhaLista = [76,92.3,\"oi\",True,4,76]\n",
    "listaNova = [\"Pitomba\", 76]\n",
    "\n",
    "#a) inserir \"pitomba\" e 76 no final da lista\n",
    "#b)inserir o valor \"cibele\" na posição de indice 3\n",
    "#c) inserir o valor 99 no início da lista\n",
    "#d) encontrar o indice de \"oi\"\n",
    "#e) remover true da lista\n",
    "\n",
    "novaLista = (minhaLista + listaNova)\n",
    "\n",
    "print(novaLista[:3]+[\"cibele\"]+novaLista[3:])\n",
    "minhaLista [3] = \"cibele\"\n",
    "print(minhaLista[3])\n",
    "minhaLista [0] =  99\n",
    "print(minhaLista[2])\n",
    "minhaLista[3] = False"
   ]
  },
  {
   "cell_type": "code",
   "execution_count": 58,
   "metadata": {},
   "outputs": [
    {
     "data": {
      "text/plain": [
       "(10, 20, 30)"
      ]
     },
     "execution_count": 58,
     "metadata": {},
     "output_type": "execute_result"
    }
   ],
   "source": [
    "tupla_numeros = (10,20,30)\n",
    "tupla_numeros"
   ]
  },
  {
   "cell_type": "code",
   "execution_count": 59,
   "metadata": {},
   "outputs": [
    {
     "data": {
      "text/plain": [
       "(10, 20, 30)"
      ]
     },
     "execution_count": 59,
     "metadata": {},
     "output_type": "execute_result"
    }
   ],
   "source": [
    "tupla_nova = 10,20,30\n",
    "tupla_nova"
   ]
  },
  {
   "cell_type": "code",
   "execution_count": 61,
   "metadata": {},
   "outputs": [
    {
     "data": {
      "text/plain": [
       "(10,)"
      ]
     },
     "execution_count": 61,
     "metadata": {},
     "output_type": "execute_result"
    }
   ],
   "source": [
    "tupla_elemento = 10,\n",
    "tupla_elemento"
   ]
  },
  {
   "cell_type": "code",
   "execution_count": 62,
   "metadata": {},
   "outputs": [
    {
     "data": {
      "text/plain": [
       "()"
      ]
     },
     "execution_count": 62,
     "metadata": {},
     "output_type": "execute_result"
    }
   ],
   "source": [
    "tupla_vazia = ()\n",
    "tupla_vazia"
   ]
  },
  {
   "cell_type": "code",
   "execution_count": 63,
   "metadata": {},
   "outputs": [
    {
     "data": {
      "text/plain": [
       "('T', 'e', 's', 't', 'e')"
      ]
     },
     "execution_count": 63,
     "metadata": {},
     "output_type": "execute_result"
    }
   ],
   "source": [
    "nova_tupla = tuple('Teste')\n",
    "nova_tupla"
   ]
  },
  {
   "cell_type": "code",
   "execution_count": 67,
   "metadata": {},
   "outputs": [
    {
     "name": "stdout",
     "output_type": "stream",
     "text": [
      "0\n",
      "1\n"
     ]
    }
   ],
   "source": [
    "tupla_nomes = ('Marlene','ZecaPagodinho','Ziraldo','Musk')\n",
    "tupla_nomes.count('Marlene')\n",
    "print(tupla_nomes.count('Messi'))\n",
    "print(tupla_nomes.count('ZecaPagodinho'))"
   ]
  },
  {
   "cell_type": "code",
   "execution_count": 74,
   "metadata": {},
   "outputs": [
    {
     "data": {
      "text/plain": [
       "3"
      ]
     },
     "execution_count": 74,
     "metadata": {},
     "output_type": "execute_result"
    }
   ],
   "source": [
    "#pratica 1\n",
    "tupla_numeros1 = (1,2,2,3,4,4,4,5)\n",
    "tupla_numeros1.count(4)"
   ]
  }
 ],
 "metadata": {
  "kernelspec": {
   "display_name": "Python 3",
   "language": "python",
   "name": "python3"
  },
  "language_info": {
   "codemirror_mode": {
    "name": "ipython",
    "version": 3
   },
   "file_extension": ".py",
   "mimetype": "text/x-python",
   "name": "python",
   "nbconvert_exporter": "python",
   "pygments_lexer": "ipython3",
   "version": "3.11.9"
  }
 },
 "nbformat": 4,
 "nbformat_minor": 2
}
